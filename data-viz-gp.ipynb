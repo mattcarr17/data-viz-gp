{
 "cells": [
  {
   "cell_type": "markdown",
   "metadata": {},
   "source": [
    "# Data Visualization Practice\n",
    "\n",
    "The goal of this notebook is to practice visualizing data. We will be using the Life Expectancy dataset from Kaggle ([link to dataset](https://www.kaggle.com/kumarajarshi/life-expectancy-who.)). The dataset contains data on life expectancy for multiple countries from 2000 to 2015 along with contributing factors.\n",
    "\n",
    "There are 7 tasks for you to complete in this notebook. For each task you will be asked to determine the appropriate visual for the given scenario, create a basic visualization, and finally add style to it.\n",
    "\n",
    "In order to format the data properly for visualizations, we need to use Pandas. The Pandas coding has been provided to you as the focus of this notebook is on creating compelling visuals. Though you will not be writing the pandas code used to format the data, this is a good chance to start thinking about how you would structure/aggregate a dataset to make appropriate visualizations.\n",
    "\n",
    "### Visualization Tasks:\n",
    "- Distribution of world-wide life expectancy\n",
    "- Distribution of life expectancy for developed vs developing countries\n",
    "- Ten countries with highest average life expectancy in 2015\n",
    "- Average world-wide life expectancy over 15-year period\n",
    "- Distribution of world-wide life expectancy for each year in 15-year period\n",
    "- Correlation between years of schooling and life expectancy\n",
    "- Life expectancy over 15-year period for 3 countries with highest average life expectancy and 3 countries with lowest average life expectancy"
   ]
  },
  {
   "cell_type": "code",
   "execution_count": null,
   "metadata": {},
   "outputs": [],
   "source": [
    "# IMPORT PANDAS AND PREPARE DATASET\n",
    "import pandas as pd\n",
    "import numpy as np\n",
    "\n",
    "# READ IN DATASET\n",
    "df = pd.read_csv('./data/life-expectancy.csv')\n",
    "\n",
    "# CLEAN COLUMN NAMES\n",
    "df.columns = [col.strip().replace(' ', '_').lower() for col in df.columns]\n",
    "\n",
    "# DROP MISSING VALUES\n",
    "df = df.dropna(subset=['life_expectancy', 'bmi', 'schooling'])\n",
    "\n",
    "# DISPLAY DATAFRAME\n",
    "df.head()"
   ]
  },
  {
   "cell_type": "markdown",
   "metadata": {},
   "source": [
    "# Task 0: Start by importing matplotlib using the standard alias."
   ]
  },
  {
   "cell_type": "code",
   "execution_count": null,
   "metadata": {},
   "outputs": [],
   "source": [
    "# IMPORT MATPLOTLIB USING STANDARD ALIAS"
   ]
  },
  {
   "cell_type": "markdown",
   "metadata": {},
   "source": [
    "## Task 1: Distribution of world-wide life expectancy"
   ]
  },
  {
   "cell_type": "code",
   "execution_count": null,
   "metadata": {},
   "outputs": [],
   "source": [
    "# PANDAS CODE\n",
    "life_expectancy = df['life_expectancy']"
   ]
  },
  {
   "cell_type": "code",
   "execution_count": null,
   "metadata": {},
   "outputs": [],
   "source": [
    "# Your code here"
   ]
  },
  {
   "cell_type": "markdown",
   "metadata": {},
   "source": [
    "## Task 2: Distribution of life expectancy for developed vs developing countries"
   ]
  },
  {
   "cell_type": "code",
   "execution_count": null,
   "metadata": {},
   "outputs": [],
   "source": [
    "# PANDAS CODE\n",
    "life_expectancy_developed = df[df['status'] == 'Developed']['life_expectancy']\n",
    "life_expectancy_developing = df[df['status'] == 'Developing']['life_expectancy']"
   ]
  },
  {
   "cell_type": "code",
   "execution_count": null,
   "metadata": {},
   "outputs": [],
   "source": [
    "# Your code here"
   ]
  },
  {
   "cell_type": "markdown",
   "metadata": {},
   "source": [
    "## Task 3: Ten countries with highest average life expectancy in 2015"
   ]
  },
  {
   "cell_type": "code",
   "execution_count": null,
   "metadata": {},
   "outputs": [],
   "source": [
    "# PANDAS CODE\n",
    "df_2015 = df[df['year'] == 2015]\n",
    "top_10 = dict(df_2015[['country', 'life_expectancy']].sort_values(by='life_expectancy', ascending=False)[:10].values)\n",
    "top_10"
   ]
  },
  {
   "cell_type": "code",
   "execution_count": null,
   "metadata": {},
   "outputs": [],
   "source": [
    "# Your code here"
   ]
  },
  {
   "cell_type": "markdown",
   "metadata": {},
   "source": [
    "## Task 4: Average world-wide life expectancy over 15-year period"
   ]
  },
  {
   "cell_type": "code",
   "execution_count": null,
   "metadata": {},
   "outputs": [],
   "source": [
    "# PANDAS CODE\n",
    "avg_per_year = df.groupby('year').mean()['life_expectancy'].to_dict()\n",
    "avg_per_year"
   ]
  },
  {
   "cell_type": "code",
   "execution_count": null,
   "metadata": {},
   "outputs": [],
   "source": [
    "# Your code here"
   ]
  },
  {
   "cell_type": "markdown",
   "metadata": {},
   "source": [
    "## Task 5: Distribution of world-wide life expectancy for each year in 15-year period"
   ]
  },
  {
   "cell_type": "code",
   "execution_count": null,
   "metadata": {},
   "outputs": [],
   "source": [
    "# PANDAS CODE\n",
    "country_expectancy_per_year = df.groupby('year')['life_expectancy'].apply(lambda x: x.values).to_dict()\n",
    "country_expectancy_per_year"
   ]
  },
  {
   "cell_type": "code",
   "execution_count": null,
   "metadata": {},
   "outputs": [],
   "source": [
    "# Your code here"
   ]
  },
  {
   "cell_type": "markdown",
   "metadata": {},
   "source": [
    "## Task 6: Correlation between years of schooling and life expectancy"
   ]
  },
  {
   "cell_type": "code",
   "execution_count": null,
   "metadata": {},
   "outputs": [],
   "source": [
    "# PANDAS CODE\n",
    "# We have life_expectancy list from earlier in notebook\n",
    "years_of_schooling = df['schooling']"
   ]
  },
  {
   "cell_type": "code",
   "execution_count": null,
   "metadata": {},
   "outputs": [],
   "source": [
    "# Your code here"
   ]
  },
  {
   "cell_type": "markdown",
   "metadata": {},
   "source": [
    "## Task 7: Life expectancy over 15-year period for 3 countries with highest average life expectancy and 3 countries with lowest average life expectancy"
   ]
  },
  {
   "cell_type": "code",
   "execution_count": null,
   "metadata": {},
   "outputs": [],
   "source": [
    "# PANDAS CODE\n",
    "top_3_country_names = list(df.groupby('country').mean()['life_expectancy'].sort_values(ascending=False).index[:3])\n",
    "low_3_country_names = list(df.groupby('country').mean()['life_expectancy'].sort_values(ascending=False).index[-3:])\n",
    "\n",
    "country_expectancies_per_year = []\n",
    "for country in top_3_country_names:\n",
    "    d = {}\n",
    "    d['name'] = country\n",
    "    d['yearly_expectancies'] = dict(df[df['country'] == country][['year', 'life_expectancy']].sort_values(by='year').values)\n",
    "    country_expectancies_per_year.append(d)\n",
    "for country in low_3_country_names:\n",
    "    d = {}\n",
    "    d['name'] = country\n",
    "    d['yearly_expectancies'] = dict(df[df['country'] == country][['year', 'life_expectancy']].sort_values(by='year').values)\n",
    "    country_expectancies_per_year.append(d)\n",
    "    \n",
    "country_expectancies_per_year"
   ]
  },
  {
   "cell_type": "code",
   "execution_count": null,
   "metadata": {},
   "outputs": [],
   "source": [
    "# Your code here"
   ]
  }
 ],
 "metadata": {
  "kernelspec": {
   "display_name": "Python (learn-env)",
   "language": "python",
   "name": "learn-env"
  },
  "language_info": {
   "codemirror_mode": {
    "name": "ipython",
    "version": 3
   },
   "file_extension": ".py",
   "mimetype": "text/x-python",
   "name": "python",
   "nbconvert_exporter": "python",
   "pygments_lexer": "ipython3",
   "version": "3.8.5"
  }
 },
 "nbformat": 4,
 "nbformat_minor": 4
}
